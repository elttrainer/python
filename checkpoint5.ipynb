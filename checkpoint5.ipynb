{
  "nbformat": 4,
  "nbformat_minor": 0,
  "metadata": {
    "colab": {
      "provenance": [],
      "authorship_tag": "ABX9TyOZYpTUfi3l2AMY++7ODJ8r",
      "include_colab_link": true
    },
    "kernelspec": {
      "name": "python3",
      "display_name": "Python 3"
    },
    "language_info": {
      "name": "python"
    }
  },
  "cells": [
    {
      "cell_type": "markdown",
      "metadata": {
        "id": "view-in-github",
        "colab_type": "text"
      },
      "source": [
        "<a href=\"https://colab.research.google.com/github/elttrainer/python/blob/main/checkpoint5.ipynb\" target=\"_parent\"><img src=\"https://colab.research.google.com/assets/colab-badge.svg\" alt=\"Open In Colab\"/></a>"
      ]
    },
    {
      "cell_type": "code",
      "execution_count": 24,
      "metadata": {
        "id": "uiBl5LXedrxd"
      },
      "outputs": [],
      "source": [
        "#pb3:\n",
        "#Write a Python  class named Circle constructed by its center O and radius r. Define two methods, area and perimeter, which will compute the area and the perimeter of the circle,\n",
        "# and is Inside() method which allows you to test whether a point A(x, y) belongs to the circle C(O, r) or not.\n",
        "\n",
        "import math\n",
        "\n",
        "class Circle:\n",
        "    def __init__(self, O, r):\n",
        "        self.Ocenter = O\n",
        "        self.radius = r\n",
        "\n",
        "    def area(self):\n",
        "        return self.radius**2*3.14\n",
        "\n",
        "    def perimeter(self):\n",
        "        return 2*self.radius*3.14\n",
        "\n",
        "    def is_inside(self, A):\n",
        "        # A is a tuple of coordinates (x, y) of a point\n",
        "        # returns True if A belongs to the circle, False otherwise\n",
        "        # using the distance formula\n",
        "        d = math.sqrt((A[0] - self.O[0]) ** 2 + (A[1] - self.O[1]) ** 2)\n",
        "        return d <= self.r\n",
        "\n",
        "\n",
        "\n",
        ""
      ]
    },
    {
      "cell_type": "code",
      "source": [
        "#pb2:\n",
        "\"\"\"Write a Python class named Rectangle constructed by a length and width. Define two methods, area and perimeter, which will compute the area and the perimeter of the rectangle.\n",
        "Then create a variable named my_rectangle containing a new instance of Rectangle with width=3 and length = 4 and compute both area and perimeter\n",
        " ( the area is expected to be 3*4=12 and perimeter 2*(3+4)=14).\"\"\"\n",
        "class Rectangle():\n",
        "  def __init__(rectangle,length,width):\n",
        "        rectangle.length = length\n",
        "        rectangle.width = width\n",
        "  def rectangle_area(rectangle):\n",
        "    return rectangle.length*rectangle.width\n",
        "  def rectangle_perimeter(rectangle):\n",
        "    return 2*(rectangle.length+rectangle.width)\n",
        "\n",
        "Rectangle_test = Rectangle(4,3 )\n",
        "print(Rectangle_test.rectangle_area())\n",
        "print(Rectangle_test.rectangle_perimeter())\n"
      ],
      "metadata": {
        "colab": {
          "base_uri": "https://localhost:8080/"
        },
        "id": "vJgY6RelrTdQ",
        "outputId": "0431151a-69a9-4ef0-d6bb-b3ca2aee1ec8"
      },
      "execution_count": 5,
      "outputs": [
        {
          "output_type": "stream",
          "name": "stdout",
          "text": [
            "12\n",
            "14\n"
          ]
        }
      ]
    },
    {
      "cell_type": "code",
      "source": [
        "#pb4:\n",
        "#Suppose we want to model a bank account with support for deposit and withdraw operations. Let’s create a Python class named Bank defined by its balance.\n",
        "# Define two methods, deposit and withdraw, to compute the new amount of each operation.\n",
        "class Bank:\n",
        "  def __init__(self):\n",
        "    self.balance=balance\n",
        "  def deposit(self,somme):\n",
        "    self.balance += somme\n",
        "    return self.balance\n",
        "\n",
        "    def withdraw(self, somme):\n",
        "            self.balance -= amount\n",
        "            return self.balance\n"
      ],
      "metadata": {
        "id": "l9WLhhu5BtOR"
      },
      "execution_count": 40,
      "outputs": []
    },
    {
      "cell_type": "code",
      "source": [
        "#pb1:\n",
        "#Write a Python class named Point3D defined by x, y, and z. Define a method that returns (x, y ,z). This tells Python to represent this object in the following format: (x, y, z).\n",
        "# Then create a variable named my_point containing a new instance of Point3D with x=1, y=2, and z=3 and print it.\n",
        "class Point3D:\n",
        "    def __init__(self, x, y, z):\n",
        "        self.x = x\n",
        "        self.y = y\n",
        "        self.z = z\n",
        "    def points(self):\n",
        "        return \"({self.x}, {self.y}, {self.z})\"\n",
        "\n",
        "my_point = Point3D(1, 2, 3)\n",
        "print(my_point)\n"
      ],
      "metadata": {
        "id": "zmHBOeFlFi1J",
        "outputId": "d1901b16-6ee1-41e4-8678-2f5b60c26ef5",
        "colab": {
          "base_uri": "https://localhost:8080/"
        }
      },
      "execution_count": 39,
      "outputs": [
        {
          "output_type": "stream",
          "name": "stdout",
          "text": [
            "<__main__.Point3D object at 0x7a36d00f7be0>\n"
          ]
        }
      ]
    }
  ]
}