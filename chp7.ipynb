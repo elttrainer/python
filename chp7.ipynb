{
  "nbformat": 4,
  "nbformat_minor": 0,
  "metadata": {
    "colab": {
      "provenance": [],
      "authorship_tag": "ABX9TyOsHHoYkk7lscbrkCl7rKwg",
      "include_colab_link": true
    },
    "kernelspec": {
      "name": "python3",
      "display_name": "Python 3"
    },
    "language_info": {
      "name": "python"
    }
  },
  "cells": [
    {
      "cell_type": "markdown",
      "metadata": {
        "id": "view-in-github",
        "colab_type": "text"
      },
      "source": [
        "<a href=\"https://colab.research.google.com/github/elttrainer/python/blob/main/chp7.ipynb\" target=\"_parent\"><img src=\"https://colab.research.google.com/assets/colab-badge.svg\" alt=\"Open In Colab\"/></a>"
      ]
    },
    {
      "cell_type": "code",
      "execution_count": 9,
      "metadata": {
        "colab": {
          "base_uri": "https://localhost:8080/"
        },
        "id": "lnSppZ4BiHf7",
        "outputId": "75bf1ddc-dfd3-40f0-9de2-5913d9b8c08c"
      },
      "outputs": [
        {
          "output_type": "stream",
          "name": "stdout",
          "text": [
            "        name  score  attempts qualify\n",
            "0  Anastasia   12.5         1     yes\n",
            "1       Dima    9.0         3      no\n",
            "2  Katherine   16.5         2     yes\n",
            "3      James    NaN         3      no\n",
            "4      Emily    9.0         2      no\n",
            "5    Michael   20.0         3     yes\n",
            "6    Matthew   14.5         1     yes\n",
            "7      Laura    NaN         1      no\n",
            "8      Kevin    8.0         2      no\n",
            "9      Jonas   19.0         1     yes\n"
          ]
        }
      ],
      "source": [
        "#Print the three first rows using the head() method.\n",
        "#Delete rows with Nan values.\n",
        "#Extract the 'name' and 'score' columns from the DataFrame.\n",
        "#Write a Pandas program to append a new row 'k' to the DataFrame with these values (name: \"Suresh\", score: 15.5, attempts: 1, qualify: \"yes\").\n",
        "#Write a Pandas program to delete the 'attempts' column from the DataFrame.\n",
        "#Add a new column \"Success\": if the score is higher than 10 we will have 1, else we will have 0.\n",
        "#After executing the final DataFrame, export it into a CSV file named \"my_data\".\n",
        "\n",
        "\n",
        "import numpy as np\n",
        "import pandas as pd\n",
        "\n",
        "exam_data = {'name': ['Anastasia', 'Dima', 'Katherine', 'James', 'Emily', 'Michael', 'Matthew', 'Laura', 'Kevin', 'Jonas'],\n",
        "'score': [12.5, 9, 16.5, np.nan, 9, 20, 14.5, np.nan, 8, 19],\n",
        "'attempts': [1, 3, 2, 3, 2, 3, 1, 1, 2, 1],\n",
        "'qualify': ['yes', 'no', 'yes', 'no', 'no', 'yes', 'yes', 'no', 'no', 'yes']}\n",
        "df = pd.DataFrame(exam_data ,index=labels)\n",
        "print(df)\n",
        "\n",
        "print(\"first 3 rows:\"df.head(3))\n",
        "\n",
        "df.drop(\"Nan\",row=3,row=7)\n",
        "\n",
        "extracting = df[['name', 'score']]\n",
        "\n",
        "new_row = pd.DataFrame({'name': [\"Suresh\"], 'score': [15.5], 'attempts': [1], 'qualify': [\"yes\"]}, index=['k'])\n",
        "df=pd.concat([new_row,df])\n",
        "\n",
        "df.drop(\"attempts\",axis=1)\n",
        "\n",
        "df['Success'] = 0\n",
        "for idx in df.index:\n",
        "    if df.loc[idx, 'score'] > 10:\n",
        "        df.loc[idx, 'Success'] = 1\n",
        "\n",
        "\n",
        "df.to_csv(\"my_data.csv\")\n",
        "\n",
        "print(df)"
      ]
    }
  ]
}