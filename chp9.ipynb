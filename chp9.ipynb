{
  "nbformat": 4,
  "nbformat_minor": 0,
  "metadata": {
    "colab": {
      "provenance": [],
      "authorship_tag": "ABX9TyOni3z/Cm8BdfA6hcUJbFMC",
      "include_colab_link": true
    },
    "kernelspec": {
      "name": "python3",
      "display_name": "Python 3"
    },
    "language_info": {
      "name": "python"
    }
  },
  "cells": [
    {
      "cell_type": "markdown",
      "metadata": {
        "id": "view-in-github",
        "colab_type": "text"
      },
      "source": [
        "<a href=\"https://colab.research.google.com/github/elttrainer/python/blob/main/chp9.ipynb\" target=\"_parent\"><img src=\"https://colab.research.google.com/assets/colab-badge.svg\" alt=\"Open In Colab\"/></a>"
      ]
    },
    {
      "cell_type": "code",
      "execution_count": 7,
      "metadata": {
        "id": "N-WXpzQMRjqD"
      },
      "outputs": [],
      "source": [
        "#1. Write a Python program to read an entire text file.\n",
        "with open(\"test.txt\") as f:\n",
        "  f.read()\n",
        "#2. Write a Python program to read the first n lines of a file.\n",
        "with open(\"example.txt\") as f:\n",
        "    last_n_lines = f.readlines()[n:]\n",
        "#3. Write a Python program to read the last n lines of a file.\n",
        "with open(\"example.txt\") as f:\n",
        "    last_n_lines = f.readlines()[-n:]\n",
        "\n",
        "#4. Write a Python program that takes a text file as input and returns the number of words of a given text file.\n",
        "with open(file_path, 'r', encoding='utf-8') as file:\n",
        "            word_count = 0\n",
        "            in_word = 0\n",
        "\n",
        "            for char in file.read():\n",
        "                if char.isspace():\n",
        "                    in_word = 0\n",
        "                elif in_word == 0:\n",
        "                    word_count += 1\n",
        "                    in_word = 1\n",
        "print(word_count)"
      ]
    }
  ]
}