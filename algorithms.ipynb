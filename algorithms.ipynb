{
  "nbformat": 4,
  "nbformat_minor": 0,
  "metadata": {
    "colab": {
      "provenance": [],
      "authorship_tag": "ABX9TyOhZ1oLwXxi9rOM+wyQ0DEY",
      "include_colab_link": true
    },
    "kernelspec": {
      "name": "python3",
      "display_name": "Python 3"
    },
    "language_info": {
      "name": "python"
    }
  },
  "cells": [
    {
      "cell_type": "markdown",
      "metadata": {
        "id": "view-in-github",
        "colab_type": "text"
      },
      "source": [
        "<a href=\"https://colab.research.google.com/github/elttrainer/python/blob/main/algorithms.ipynb\" target=\"_parent\"><img src=\"https://colab.research.google.com/assets/colab-badge.svg\" alt=\"Open In Colab\"/></a>"
      ]
    },
    {
      "cell_type": "code",
      "execution_count": 8,
      "metadata": {
        "colab": {
          "base_uri": "https://localhost:8080/"
        },
        "id": "F37DN7FvKcZc",
        "outputId": "621f34b8-0ebc-4063-ecb7-20f11dad659f"
      },
      "outputs": [
        {
          "output_type": "stream",
          "name": "stdout",
          "text": [
            "False\n",
            "True\n"
          ]
        }
      ],
      "source": [
        "#1:\n",
        "def binary_search(A, l, h, x):\n",
        "    if h >= l:\n",
        "        mid = int(l + (h - l) / 2)\n",
        "        if A[mid] == x:\n",
        "            return True\n",
        "        elif A[mid] > x:\n",
        "            return binary_search(A, l, mid - 1, x)\n",
        "        else:\n",
        "            return binary_search(A, mid + 1, h, x)\n",
        "    else:\n",
        "        return False\n",
        "\n",
        "A = [1, 2, 3, 5, 8]\n",
        "x = 6\n",
        "l = 0\n",
        "h = len(A) - 1\n",
        "print(binary_search(A, l, h, x))\n",
        "\n",
        "x = 5\n",
        "l = 0\n",
        "h = len(A) - 1\n",
        "print(binary_search(A, l, h, x))"
      ]
    },
    {
      "cell_type": "code",
      "source": [
        "#2:\n",
        "#Write a Python program to calculate the value of 'a' to the power 'b'.\n",
        "def power_numbers(a,b):\n",
        "   return a**b\n",
        "n=3\n",
        "m=4\n",
        "print(power_numbers(n,m))"
      ],
      "metadata": {
        "colab": {
          "base_uri": "https://localhost:8080/"
        },
        "id": "Llff7me9WnXS",
        "outputId": "171c7a20-c332-4575-88b3-5760d59edd3e"
      },
      "execution_count": 15,
      "outputs": [
        {
          "output_type": "stream",
          "name": "stdout",
          "text": [
            "81\n"
          ]
        }
      ]
    },
    {
      "cell_type": "code",
      "source": [
        "#3:Write a Python program to sort a list of elements using the bubble sort algorithm.\n",
        "def bubble_sort(list):\n",
        "  for i in range(len(list)-1,0,-1):\n",
        "    for j in range (i):\n",
        "      if list[j+1]<list[j]:\n",
        "                list[j], list[j + 1] = list[j + 1], list[j]\n",
        "\n",
        "  return list\n",
        "Data=[29,13,22,37,52,49,46,71,56]\n",
        "print(bubble_sort(Data))\n",
        "\n"
      ],
      "metadata": {
        "colab": {
          "base_uri": "https://localhost:8080/"
        },
        "id": "AvZzg6UvZkEV",
        "outputId": "10da8112-7ad9-4207-bc35-fdc1599d5fb8"
      },
      "execution_count": 20,
      "outputs": [
        {
          "output_type": "stream",
          "name": "stdout",
          "text": [
            "[13, 22, 29, 37, 46, 49, 52, 56, 71]\n"
          ]
        }
      ]
    },
    {
      "cell_type": "code",
      "source": [
        "#4:\n",
        "def mergeSort(myList):\n",
        "    if len(myList) > 1:\n",
        "        mid = len(myList) // 2\n",
        "        left = myList[:mid]\n",
        "        right = myList[mid:]\n",
        "        mergeSort(left)\n",
        "        mergeSort(right)\n",
        "\n",
        "        i = 0\n",
        "        j = 0\n",
        "        k = 0\n",
        "\n",
        "        while i < len(left) and j < len(right):\n",
        "            if left[i] < right[j]:\n",
        "              myList[k] = left[i]\n",
        "              i += 1\n",
        "            else:\n",
        "                myList[k] = right[j]\n",
        "                j += 1\n",
        "            k += 1\n",
        "        while i < len(left):\n",
        "            myList[k] = left[i]\n",
        "            i += 1\n",
        "            k += 1\n",
        "\n",
        "        while j < len(right):\n",
        "            myList[k]=right[j]\n",
        "            j += 1\n",
        "            k += 1\n",
        "\n",
        "myList = [29,13,22,37,52,49,46,71,56]\n",
        "mergeSort(myList)\n",
        "print(myList)"
      ],
      "metadata": {
        "colab": {
          "base_uri": "https://localhost:8080/"
        },
        "id": "lsHDilE8d59q",
        "outputId": "5b52949e-d134-4f32-8c20-5a22699377c7"
      },
      "execution_count": 21,
      "outputs": [
        {
          "output_type": "stream",
          "name": "stdout",
          "text": [
            "[13, 22, 29, 37, 46, 49, 52, 56, 71]\n"
          ]
        }
      ]
    },
    {
      "cell_type": "code",
      "source": [
        "def partition(arr, low, high):\n",
        "    pivot = arr[high]\n",
        "    i = low - 1\n",
        "\n",
        "    for j in range(low, high):\n",
        "        if arr[j] <= pivot:\n",
        "            i += 1\n",
        "            arr[i], arr[j] = arr[j], arr[i]\n",
        "\n",
        "    arr[i + 1], arr[high] = arr[high], arr[i + 1]\n",
        "    return i + 1\n",
        "\n",
        "def quick_sort(arr, begin, end):\n",
        "    if begin < end:\n",
        "        p = partition(arr, begin, end)\n",
        "        quick_sort(arr, begin, p - 1)\n",
        "        quick_sort(arr, p + 1, end)\n",
        "\n",
        "list = [29, 13, 22, 37, 52, 49, 46, 71, 56]\n",
        "quick_sort(list, 0, len(list) - 1)\n",
        "print(list)\n"
      ],
      "metadata": {
        "colab": {
          "base_uri": "https://localhost:8080/"
        },
        "id": "--mfA1JChFT-",
        "outputId": "2714f36b-92d8-45cb-c126-74aefd56cae9"
      },
      "execution_count": 29,
      "outputs": [
        {
          "output_type": "stream",
          "name": "stdout",
          "text": [
            "[13, 22, 29, 37, 46, 49, 52, 56, 71]\n"
          ]
        }
      ]
    }
  ]
}