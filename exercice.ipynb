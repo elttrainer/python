{
  "nbformat": 4,
  "nbformat_minor": 0,
  "metadata": {
    "colab": {
      "provenance": [],
      "authorship_tag": "ABX9TyPI690tb29U8jsMxXHZHNBC",
      "include_colab_link": true
    },
    "kernelspec": {
      "name": "python3",
      "display_name": "Python 3"
    },
    "language_info": {
      "name": "python"
    }
  },
  "cells": [
    {
      "cell_type": "markdown",
      "metadata": {
        "id": "view-in-github",
        "colab_type": "text"
      },
      "source": [
        "<a href=\"https://colab.research.google.com/github/elttrainer/python/blob/main/exercice.ipynb\" target=\"_parent\"><img src=\"https://colab.research.google.com/assets/colab-badge.svg\" alt=\"Open In Colab\"/></a>"
      ]
    },
    {
      "cell_type": "code",
      "execution_count": 1,
      "metadata": {
        "id": "ySDcND4IAqKH"
      },
      "outputs": [],
      "source": [
        "\n",
        "#Implement a function called array_operations that takes two NumPy arrays as input and performs the following operations:\n",
        "\n",
        "#Element-wise addition of the two arrays.\n",
        "#Element-wise subtraction of the second array from the first array.\n",
        "#Element-wise multiplication of the two arrays.\n",
        "#Element-wise division of the first array by the second array. Replace any division by zero with zero.\n",
        "#Compute the mean of the first array and round it to two decimal places.\n",
        "#Return the maximum value in the second array.\n",
        "\n",
        "\n",
        "import numpy as np\n",
        "def array_operations(a1,a2):\n",
        "   addition=np.add(a1,a2)\n",
        "   substraction=np.subtract(a1,a2)\n",
        "   multiplication=a1*a2\n",
        "   division=np.divide(a1,a2)\n",
        "   division[a2 == 0] = 0\n",
        "   mean_array_one=np.mean(a1)\n",
        "   round_array_one=np.round(mean_array_one, 2)\n",
        "   max_array_two=np.max(a2)\n",
        "   return max_array_two"
      ]
    }
  ]
}