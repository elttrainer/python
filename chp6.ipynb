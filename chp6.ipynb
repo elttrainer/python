{
  "nbformat": 4,
  "nbformat_minor": 0,
  "metadata": {
    "colab": {
      "provenance": [],
      "authorship_tag": "ABX9TyM7ZPMJpnttLvlgK6yS7E8C",
      "include_colab_link": true
    },
    "kernelspec": {
      "name": "python3",
      "display_name": "Python 3"
    },
    "language_info": {
      "name": "python"
    }
  },
  "cells": [
    {
      "cell_type": "markdown",
      "metadata": {
        "id": "view-in-github",
        "colab_type": "text"
      },
      "source": [
        "<a href=\"https://colab.research.google.com/github/elttrainer/python/blob/main/chp6.ipynb\" target=\"_parent\"><img src=\"https://colab.research.google.com/assets/colab-badge.svg\" alt=\"Open In Colab\"/></a>"
      ]
    },
    {
      "cell_type": "code",
      "execution_count": 4,
      "metadata": {
        "colab": {
          "base_uri": "https://localhost:8080/",
          "height": 269
        },
        "id": "iqR_zFQDTNu_",
        "outputId": "399b0a00-6d1e-4a9f-a609-a6dcd9f4915c"
      },
      "outputs": [
        {
          "name": "stdout",
          "output_type": "stream",
          "text": [
            "enter the number of subjects2\n",
            "enter the number of students2\n"
          ]
        },
        {
          "output_type": "error",
          "ename": "TypeError",
          "evalue": "ignored",
          "traceback": [
            "\u001b[0;31m---------------------------------------------------------------------------\u001b[0m",
            "\u001b[0;31mTypeError\u001b[0m                                 Traceback (most recent call last)",
            "\u001b[0;32m<ipython-input-4-024648dc2ccb>\u001b[0m in \u001b[0;36m<cell line: 20>\u001b[0;34m()\u001b[0m\n\u001b[1;32m     18\u001b[0m \u001b[0mtableau\u001b[0m\u001b[0;34m=\u001b[0m\u001b[0mnp\u001b[0m\u001b[0;34m.\u001b[0m\u001b[0mzeros\u001b[0m\u001b[0;34m(\u001b[0m\u001b[0;34m[\u001b[0m\u001b[0mstudents\u001b[0m\u001b[0;34m,\u001b[0m\u001b[0msubjects\u001b[0m\u001b[0;34m]\u001b[0m\u001b[0;34m)\u001b[0m\u001b[0;34m\u001b[0m\u001b[0;34m\u001b[0m\u001b[0m\n\u001b[1;32m     19\u001b[0m \u001b[0;34m\u001b[0m\u001b[0m\n\u001b[0;32m---> 20\u001b[0;31m \u001b[0;32mfor\u001b[0m \u001b[0mi\u001b[0m \u001b[0;32min\u001b[0m \u001b[0mrange\u001b[0m \u001b[0;32min\u001b[0m \u001b[0;34m(\u001b[0m\u001b[0mstudents\u001b[0m\u001b[0;34m)\u001b[0m\u001b[0;34m:\u001b[0m\u001b[0;34m\u001b[0m\u001b[0;34m\u001b[0m\u001b[0m\n\u001b[0m\u001b[1;32m     21\u001b[0m   \u001b[0;32mfor\u001b[0m \u001b[0mj\u001b[0m \u001b[0;32min\u001b[0m \u001b[0mrange\u001b[0m \u001b[0;32min\u001b[0m\u001b[0;34m(\u001b[0m\u001b[0msubjects\u001b[0m\u001b[0;34m)\u001b[0m\u001b[0;34m:\u001b[0m\u001b[0;34m\u001b[0m\u001b[0;34m\u001b[0m\u001b[0m\n\u001b[1;32m     22\u001b[0m     \u001b[0mtableau\u001b[0m\u001b[0;34m[\u001b[0m\u001b[0mi\u001b[0m\u001b[0;34m]\u001b[0m\u001b[0;34m[\u001b[0m\u001b[0mj\u001b[0m\u001b[0;34m]\u001b[0m\u001b[0;34m=\u001b[0m\u001b[0mint\u001b[0m\u001b[0;34m(\u001b[0m\u001b[0minput\u001b[0m\u001b[0;34m(\u001b[0m\u001b[0;34m\"donnez la note de chaque eleve\"\u001b[0m\u001b[0;34m)\u001b[0m\u001b[0;34m)\u001b[0m\u001b[0;34m\u001b[0m\u001b[0;34m\u001b[0m\u001b[0m\n",
            "\u001b[0;31mTypeError\u001b[0m: argument of type 'int' is not iterable"
          ]
        }
      ],
      "source": [
        "#Import the Numpy library.\n",
        "#Ask the user to enter the number of students and the number of subjects.\n",
        "#Create a Numpy array to store the marks of each student in each subject. The array should have the shape (number of students, number of subjects).\n",
        "#Ask the user to enter the marks of each student in each subject.\n",
        "#Calculate the total marks for each student using the sum() function of Numpy.\n",
        "#Calculate the percentage for each student using the total marks and the formula: percentage = (total marks / (number of subjects * 100)) * 100\n",
        "#Calculate the grade for each student using the percentage and the following grading system:\n",
        "#90% or above: A+\n",
        "#80% or above: A\n",
        "#70% or above: B+\n",
        "#60% or above: B\n",
        "#50% or above: C\n",
        "#below 50%: F\n",
        "#Display the result for each student in a tabular format with columns for student name, total marks, percentage, and grade.\n",
        "import numpy as np\n",
        "subjects=int(input(\"enter the number of subjects\"))\n",
        "students=int(input('enter the number of students'))\n",
        "tableau=np.zeros([students,subjects])\n",
        "\n",
        "for i in range in (students):\n",
        "  for j in range in(subjects):\n",
        "    tableau[i][j]=float(input(\"donnez la note de chaque eleve\"))\n",
        "\n",
        "total_mark = np.sum(tableau[1])\n",
        "\n",
        "percentage = (total_mark / (subjects * 100)) * 100\n",
        "\n",
        "grade = []\n",
        "for n in percentage:\n",
        "    if n >= 90:\n",
        "        grade.append(\"A+\")\n",
        "    elif n >= 80:\n",
        "        grade.append(\"A\")\n",
        "    elif n >= 70:\n",
        "        grade.append(\"B+\")\n",
        "    elif n >= 60:\n",
        "        grade.append(\"B\")\n",
        "    elif n >= 50:\n",
        "        grade.append(\"C\")\n",
        "    else:\n",
        "        grade.append(\"F\")\n",
        "\n",
        "print(\"Student\\Total Marks\\Percentage\\Grade\")\n",
        "for i in range(students):\n",
        " print(total_mark[i],percentage[n],grade[i])\n"
      ]
    }
  ]
}