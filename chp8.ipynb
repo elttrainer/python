{
  "nbformat": 4,
  "nbformat_minor": 0,
  "metadata": {
    "colab": {
      "provenance": [],
      "authorship_tag": "ABX9TyOXffo09BDZw18g3fTxWiri",
      "include_colab_link": true
    },
    "kernelspec": {
      "name": "python3",
      "display_name": "Python 3"
    },
    "language_info": {
      "name": "python"
    }
  },
  "cells": [
    {
      "cell_type": "markdown",
      "metadata": {
        "id": "view-in-github",
        "colab_type": "text"
      },
      "source": [
        "<a href=\"https://colab.research.google.com/github/elttrainer/python/blob/main/chp8.ipynb\" target=\"_parent\"><img src=\"https://colab.research.google.com/assets/colab-badge.svg\" alt=\"Open In Colab\"/></a>"
      ]
    },
    {
      "cell_type": "code",
      "execution_count": null,
      "metadata": {
        "id": "-4JwC7csAnPP"
      },
      "outputs": [],
      "source": [
        "import requests\n",
        "from bs4 import BeautifulSoup\n",
        "\n",
        "url='https://fr.wikipedia.org/wiki/Wikip%C3%A9dia'\n",
        "\n",
        "def get_html_content(url):\n",
        "    response = requests.get(url)\n",
        "    print(page.status_code)\n",
        "    soup = BeautifulSoup(response.content, 'html.parser')\n",
        "    print(soup.prettify())\n",
        "\n",
        "def extract_article_title(html_content):\n",
        "    soup = BeautifulSoup(html_content, 'html.parser')\n",
        "    title = soup.find('<title>' ,'h1').text\n",
        "    return title\n",
        "\n",
        "\n",
        "def extract_article_text(html_content):\n",
        "    dictionnaire = {}\n",
        "    soup = BeautifulSoup(html_content, 'html.parser')\n",
        "\n",
        "    for tag in soup.find_all(['h2', 'p']):\n",
        "        if tag.name == 'h2':\n",
        "            titre = tag.text\n",
        "            dictionnaire[] = [titre]\n",
        "        elif tag.name == 'p' :\n",
        "            dictionnaire[].append(tag.text)\n",
        "\n",
        "    return dictionnaire\n",
        "\n",
        "\n",
        "def collect_redirect_links(html_content):\n",
        "    soup = BeautifulSoup(html_content, 'html.parser')\n",
        "    redirected_links = []\n",
        "\n",
        "    for link in soup.find_all('a'):\n",
        "            redirected_links.append(link['href'])\n",
        "\n",
        "    return redirect_links\n",
        "\n",
        "\n",
        "def scrape_wikipedia_page(url):\n",
        "    html_content = get_html_content(url)\n",
        "    if html_content:\n",
        "        title = extract_article_title(html_content)\n",
        "        article_text = extract_article_text(html_content)\n",
        "        redirect_links = collect_redirect_links(html_content)\n",
        "        return {\n",
        "            'title': title,\n",
        "            'article_text': article_text,\n",
        "            'redirect_links': redirect_links\n",
        "        }\n",
        "\n",
        "if __name__ == \"__main__\":\n",
        "    wikipedia_url = \"https://fr.wikipedia.org/wiki/Wikip%C3%A9dia\"\n",
        "    result = scrape_wikipedia_page(wikipedia_url)\n",
        "    if result:\n",
        "        print(\"Title:\", result['title'])\n",
        "        print(\"Article Text:\", result['article_text'])\n",
        "        print(\"Redirect Links:\", result['redirect_links'])"
      ]
    }
  ]
}