{
  "nbformat": 4,
  "nbformat_minor": 0,
  "metadata": {
    "colab": {
      "provenance": [],
      "authorship_tag": "ABX9TyPUtO4On9ieKoYP+HdWTqT1",
      "include_colab_link": true
    },
    "kernelspec": {
      "name": "python3",
      "display_name": "Python 3"
    },
    "language_info": {
      "name": "python"
    }
  },
  "cells": [
    {
      "cell_type": "markdown",
      "metadata": {
        "id": "view-in-github",
        "colab_type": "text"
      },
      "source": [
        "<a href=\"https://colab.research.google.com/github/elttrainer/python/blob/main/chp4ipynb.ipynb\" target=\"_parent\"><img src=\"https://colab.research.google.com/assets/colab-badge.svg\" alt=\"Open In Colab\"/></a>"
      ]
    },
    {
      "cell_type": "code",
      "execution_count": 1,
      "metadata": {
        "colab": {
          "base_uri": "https://localhost:8080/"
        },
        "id": "gksAryxlRRjc",
        "outputId": "ecaff3a8-8a7c-491f-a45d-097e3e0957ec"
      },
      "outputs": [
        {
          "output_type": "stream",
          "name": "stdout",
          "text": [
            "Enter the operator (+, -, *, /)+\n",
            "Enter a number: 3\n",
            "Enter another number: 4\n",
            "3.0 + 4.0 = 7.0\n"
          ]
        }
      ],
      "source": [
        "def calculator():\n",
        "\n",
        "\n",
        " oper = input(\"Enter the operator (+, -, *, /)\")\n",
        "\n",
        "\n",
        "\n",
        " num1 = float(input(\"Enter a number: \"))\n",
        "\n",
        " num2 = float(input(\"Enter another number: \"))\n",
        "\n",
        " if oper == \"+\":\n",
        "                result = num1 + num2\n",
        "                print(num1, \"+\", num2, \"=\", result)\n",
        "\n",
        " elif oper == \"-\":\n",
        "                result = num1 - num2\n",
        "                print(num1, \"-\", num2, \"=\", result)\n",
        "\n",
        " elif oper == \"*\":\n",
        "                result = num1 * num2\n",
        "                print(num1, \"*\", num2, \"=\", result)\n",
        "\n",
        " elif oper == \"/\":\n",
        "                result = num1 / num2\n",
        "                print(num1, \"/\", num2, \"=\", result)\n",
        " else:\n",
        "                print(\"Invalid Input\")\n",
        "\n",
        "calculator()"
      ]
    }
  ]
}